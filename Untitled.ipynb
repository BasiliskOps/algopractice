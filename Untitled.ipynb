{
 "cells": [
  {
   "cell_type": "markdown",
   "id": "7174ae6a",
   "metadata": {},
   "source": [
    "# What is an Algorithm"
   ]
  },
  {
   "cell_type": "markdown",
   "id": "fb45e2ae",
   "metadata": {},
   "source": [
    "An algorithm is a procedure or formula for solving a problem through a programing language "
   ]
  },
  {
   "cell_type": "code",
   "execution_count": 11,
   "id": "57d5c33d",
   "metadata": {},
   "outputs": [],
   "source": [
    "def sum1(n):\n",
    "    \"\"\"\n",
    "    Take the input of n and return the sum of the numbers from 0 to n\n",
    "    \"\"\"\n",
    "    final_sum = 0\n",
    "    for x in range(n+1):\n",
    "        final_sum += x\n",
    "        \n",
    "    return final_sum"
   ]
  },
  {
   "cell_type": "code",
   "execution_count": 12,
   "id": "caa8564b",
   "metadata": {},
   "outputs": [
    {
     "data": {
      "text/plain": [
       "15"
      ]
     },
     "execution_count": 12,
     "metadata": {},
     "output_type": "execute_result"
    }
   ],
   "source": [
    "sum1(5)"
   ]
  },
  {
   "cell_type": "code",
   "execution_count": 13,
   "id": "244f37cf",
   "metadata": {},
   "outputs": [],
   "source": [
    "def sum2(n):\n",
    "    \"\"\"\n",
    "    Take the input of n and return the sum of the numbers from 0 to n\n",
    "    \"\"\"\n",
    "    return (n*(n+1))/2"
   ]
  },
  {
   "cell_type": "code",
   "execution_count": 14,
   "id": "8ed533ca",
   "metadata": {},
   "outputs": [
    {
     "data": {
      "text/plain": [
       "15.0"
      ]
     },
     "execution_count": 14,
     "metadata": {},
     "output_type": "execute_result"
    }
   ],
   "source": [
    "sum2(5)"
   ]
  },
  {
   "cell_type": "markdown",
   "id": "8ba41636",
   "metadata": {},
   "source": [
    "Function sum1 uses a for loop to iteratively add across the range + 1\n",
    "Function sum2 makes use of a formula to solve a problem"
   ]
  },
  {
   "cell_type": "markdown",
   "id": "e81a39dc",
   "metadata": {},
   "source": [
    "Objectively Compare The Functions"
   ]
  },
  {
   "cell_type": "markdown",
   "id": "3f6ad412",
   "metadata": {},
   "source": [
    "Memory Space & Time to Run"
   ]
  },
  {
   "cell_type": "code",
   "execution_count": 15,
   "id": "48e65501",
   "metadata": {},
   "outputs": [
    {
     "name": "stdout",
     "output_type": "stream",
     "text": [
      "3.68 µs ± 174 ns per loop (mean ± std. dev. of 7 runs, 100,000 loops each)\n"
     ]
    }
   ],
   "source": [
    "#result in microseconds\n",
    "\n",
    "%timeit sum1(100)"
   ]
  },
  {
   "cell_type": "code",
   "execution_count": 16,
   "id": "f4082771",
   "metadata": {},
   "outputs": [
    {
     "name": "stdout",
     "output_type": "stream",
     "text": [
      "125 ns ± 0.81 ns per loop (mean ± std. dev. of 7 runs, 10,000,000 loops each)\n"
     ]
    }
   ],
   "source": [
    "%timeit sum2(100)\n",
    "# order is nanoseconds per loop"
   ]
  },
  {
   "cell_type": "markdown",
   "id": "09c49d8e",
   "metadata": {},
   "source": [
    "To be hardware independent == Big O"
   ]
  },
  {
   "cell_type": "markdown",
   "id": "cc7ecf8d",
   "metadata": {},
   "source": [
    "Asymptotic Analysis"
   ]
  },
  {
   "cell_type": "code",
   "execution_count": null,
   "id": "60c5d655",
   "metadata": {},
   "outputs": [],
   "source": [
    "def big_o(n):\n",
    "    return 45*n**3 + 20*n**2 +"
   ]
  }
 ],
 "metadata": {
  "kernelspec": {
   "display_name": "Python 3 (ipykernel)",
   "language": "python",
   "name": "python3"
  },
  "language_info": {
   "codemirror_mode": {
    "name": "ipython",
    "version": 3
   },
   "file_extension": ".py",
   "mimetype": "text/x-python",
   "name": "python",
   "nbconvert_exporter": "python",
   "pygments_lexer": "ipython3",
   "version": "3.9.2"
  }
 },
 "nbformat": 4,
 "nbformat_minor": 5
}
