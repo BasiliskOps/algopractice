{
 "cells": [
  {
   "cell_type": "markdown",
   "id": "d1d5b74b",
   "metadata": {},
   "source": [
    "# What is an Algorithm"
   ]
  },
  {
   "cell_type": "markdown",
   "id": "5658dcf7",
   "metadata": {},
   "source": [
    "An algorithm is a procedure or formula for solving a problem through a programing language "
   ]
  },
  {
   "cell_type": "code",
   "execution_count": 11,
   "id": "a6eab444",
   "metadata": {},
   "outputs": [],
   "source": [
    "def sum1(n):\n",
    "    \"\"\"\n",
    "    Take the input of n and return the sum of the numbers from 0 to n\n",
    "    \"\"\"\n",
    "    final_sum = 0\n",
    "    for x in range(n+1):\n",
    "        final_sum += x\n",
    "        \n",
    "    return final_sum"
   ]
  },
  {
   "cell_type": "code",
   "execution_count": 12,
   "id": "7ed276e2",
   "metadata": {},
   "outputs": [
    {
     "data": {
      "text/plain": [
       "15"
      ]
     },
     "execution_count": 12,
     "metadata": {},
     "output_type": "execute_result"
    }
   ],
   "source": [
    "sum1(5)"
   ]
  },
  {
   "cell_type": "code",
   "execution_count": 13,
   "id": "4673b0c8",
   "metadata": {},
   "outputs": [],
   "source": [
    "def sum2(n):\n",
    "    \"\"\"\n",
    "    Take the input of n and return the sum of the numbers from 0 to n\n",
    "    \"\"\"\n",
    "    return (n*(n+1))/2"
   ]
  },
  {
   "cell_type": "code",
   "execution_count": 14,
   "id": "5f48f1cd",
   "metadata": {},
   "outputs": [
    {
     "data": {
      "text/plain": [
       "15.0"
      ]
     },
     "execution_count": 14,
     "metadata": {},
     "output_type": "execute_result"
    }
   ],
   "source": [
    "sum2(5)"
   ]
  },
  {
   "cell_type": "markdown",
   "id": "7b83aab0",
   "metadata": {},
   "source": [
    "Function sum1 uses a for loop to iteratively add across the range + 1\n",
    "Function sum2 makes use of a formula to solve a problem"
   ]
  },
  {
   "cell_type": "markdown",
   "id": "45f2876c",
   "metadata": {},
   "source": [
    "Objectively Compare The Functions"
   ]
  },
  {
   "cell_type": "markdown",
   "id": "0f26b3a2",
   "metadata": {},
   "source": [
    "Memory Space & Time to Run"
   ]
  },
  {
   "cell_type": "code",
   "execution_count": 15,
   "id": "8985af56",
   "metadata": {},
   "outputs": [
    {
     "name": "stdout",
     "output_type": "stream",
     "text": [
      "3.68 µs ± 174 ns per loop (mean ± std. dev. of 7 runs, 100,000 loops each)\n"
     ]
    }
   ],
   "source": [
    "#result in microseconds\n",
    "\n",
    "%timeit sum1(100)"
   ]
  },
  {
   "cell_type": "code",
   "execution_count": 16,
   "id": "3bdbd908",
   "metadata": {},
   "outputs": [
    {
     "name": "stdout",
     "output_type": "stream",
     "text": [
      "125 ns ± 0.81 ns per loop (mean ± std. dev. of 7 runs, 10,000,000 loops each)\n"
     ]
    }
   ],
   "source": [
    "%timeit sum2(100)\n",
    "# order is nanoseconds per loop"
   ]
  },
  {
   "cell_type": "markdown",
   "id": "1d0c4edc",
   "metadata": {},
   "source": [
    "To be hardware independent == Big O"
   ]
  },
  {
   "cell_type": "markdown",
   "id": "45429da0",
   "metadata": {},
   "source": [
    "Asymptotic Analysis"
   ]
  },
  {
   "cell_type": "code",
   "execution_count": 17,
   "id": "27883f6e",
   "metadata": {},
   "outputs": [
    {
     "data": {
      "text/plain": [
       "84"
      ]
     },
     "execution_count": 17,
     "metadata": {},
     "output_type": "execute_result"
    }
   ],
   "source": [
    "def big_o(n):\n",
    "    return 45*n**3 + 20*n**2 + 19\n",
    "big_o(1)"
   ]
  },
  {
   "cell_type": "code",
   "execution_count": 18,
   "id": "c31f7197",
   "metadata": {},
   "outputs": [
    {
     "data": {
      "text/plain": [
       "459"
      ]
     },
     "execution_count": 18,
     "metadata": {},
     "output_type": "execute_result"
    }
   ],
   "source": [
    "big_o(2)"
   ]
  },
  {
   "cell_type": "code",
   "execution_count": 19,
   "id": "c78acd10",
   "metadata": {},
   "outputs": [
    {
     "data": {
      "text/plain": [
       "47019"
      ]
     },
     "execution_count": 19,
     "metadata": {},
     "output_type": "execute_result"
    }
   ],
   "source": [
    "big_o(10)"
   ]
  },
  {
   "cell_type": "markdown",
   "id": "88079e1e",
   "metadata": {},
   "source": [
    "|Big-O | Name |\n",
    "| --- | --- |\n",
    "| 1 | Constant |\n",
    "| log(n) | Logarithmic |\n",
    "| n | Linear |\n",
    "| nlog(n) | Log Linear |\n",
    "| n^2 | Quadratic |\n",
    "| n^3 | Cubic |\n",
    "| 2^n | Exponential |"
   ]
  },
  {
   "cell_type": "code",
   "execution_count": null,
   "id": "152d28f3",
   "metadata": {},
   "outputs": [],
   "source": [
    "from math import log\n",
    "import numpy as np\n",
    "import matplotlib.pyplot as plt\n",
    "%matplotlib inline\n",
    "plt.style.use('bmh')\n",
    "\n",
    "n = np.linspace(1, 10)\n",
    "labels = ['Constant', 'Logarithmic', 'Linear', 'Log Linear', 'Quadratic', 'Cubic', 'Exponential']\n",
    "big_o = [np.ones(n.shape), np.log(n), n, n*np.log(n), n**2, n**3, 2**n]\n",
    "\n"
   ]
  }
 ],
 "metadata": {
  "kernelspec": {
   "display_name": "Python 3 (ipykernel)",
   "language": "python",
   "name": "python3"
  },
  "language_info": {
   "codemirror_mode": {
    "name": "ipython",
    "version": 3
   },
   "file_extension": ".py",
   "mimetype": "text/x-python",
   "name": "python",
   "nbconvert_exporter": "python",
   "pygments_lexer": "ipython3",
   "version": "3.9.2"
  }
 },
 "nbformat": 4,
 "nbformat_minor": 5
}
