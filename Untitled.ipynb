{
 "cells": [
  {
   "cell_type": "code",
   "execution_count": 4,
   "id": "9e78dcda",
   "metadata": {},
   "outputs": [],
   "source": [
    "def sum1(n):\n",
    "    \"\"\"\n",
    "    Take the input of n and return the sum of the numbers from 0 to n\n",
    "    \"\"\"\n",
    "    final_sum = 0\n",
    "    for x in range(n+1):\n",
    "        final_sum += x\n",
    "        \n",
    "    return final_sum"
   ]
  },
  {
   "cell_type": "code",
   "execution_count": 3,
   "id": "14452599",
   "metadata": {},
   "outputs": [
    {
     "data": {
      "text/plain": [
       "15.0"
      ]
     },
     "execution_count": 3,
     "metadata": {},
     "output_type": "execute_result"
    }
   ],
   "source": [
    "sum1(5)"
   ]
  },
  {
   "cell_type": "code",
   "execution_count": 5,
   "id": "5ed08cc6",
   "metadata": {},
   "outputs": [],
   "source": [
    "def sum2(n):\n",
    "    \"\"\"\n",
    "    Take the input of n and return the sum of the numbers from 0 to n\n",
    "    \"\"\"\n",
    "    return (n*(n+1))/2"
   ]
  },
  {
   "cell_type": "code",
   "execution_count": 6,
   "id": "643b1351",
   "metadata": {},
   "outputs": [
    {
     "data": {
      "text/plain": [
       "15.0"
      ]
     },
     "execution_count": 6,
     "metadata": {},
     "output_type": "execute_result"
    }
   ],
   "source": [
    "sum2(5)"
   ]
  },
  {
   "cell_type": "markdown",
   "id": "23f311e5",
   "metadata": {},
   "source": [
    "Function sum1 uses a for loop to iteratively add across the range + 1\n",
    "Function sum2 makes use of a formula to solve a problem"
   ]
  },
  {
   "cell_type": "markdown",
   "id": "88263047",
   "metadata": {},
   "source": [
    "Objectively Compare The Functions"
   ]
  },
  {
   "cell_type": "markdown",
   "id": "b404a7f3",
   "metadata": {},
   "source": [
    "Memory Space & Time to Run"
   ]
  },
  {
   "cell_type": "code",
   "execution_count": 9,
   "id": "0c7a1f88",
   "metadata": {},
   "outputs": [
    {
     "name": "stdout",
     "output_type": "stream",
     "text": [
      "3.47 µs ± 59.1 ns per loop (mean ± std. dev. of 7 runs, 100,000 loops each)\n"
     ]
    }
   ],
   "source": [
    "#result in microseconds\n",
    "\n",
    "%timeit sum1(100)"
   ]
  },
  {
   "cell_type": "code",
   "execution_count": 10,
   "id": "5c41d186",
   "metadata": {},
   "outputs": [
    {
     "name": "stdout",
     "output_type": "stream",
     "text": [
      "126 ns ± 1.23 ns per loop (mean ± std. dev. of 7 runs, 10,000,000 loops each)\n"
     ]
    }
   ],
   "source": [
    "%timeit sum2(100)\n",
    "# order is nanoseconds per loop"
   ]
  },
  {
   "cell_type": "code",
   "execution_count": null,
   "id": "d669d0b9",
   "metadata": {},
   "outputs": [],
   "source": []
  }
 ],
 "metadata": {
  "kernelspec": {
   "display_name": "Python 3 (ipykernel)",
   "language": "python",
   "name": "python3"
  },
  "language_info": {
   "codemirror_mode": {
    "name": "ipython",
    "version": 3
   },
   "file_extension": ".py",
   "mimetype": "text/x-python",
   "name": "python",
   "nbconvert_exporter": "python",
   "pygments_lexer": "ipython3",
   "version": "3.9.2"
  }
 },
 "nbformat": 4,
 "nbformat_minor": 5
}
